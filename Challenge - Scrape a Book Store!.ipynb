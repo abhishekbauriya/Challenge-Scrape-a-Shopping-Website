{
 "cells": [
  {
   "cell_type": "code",
   "execution_count": 1,
   "id": "macro-schedule",
   "metadata": {},
   "outputs": [
    {
     "name": "stdout",
     "output_type": "stream",
     "text": [
      "New Scrapy project 'book_spider', using template directory 'c:\\users\\abhishek-pc\\appdata\\local\\programs\\python\\python39\\lib\\site-packages\\scrapy\\templates\\project', created in:\n",
      "    E:\\coding_blocks_python_master_developer\\Basics of Python\\Challenge - Scrape a Book Store!\\book_spider\n",
      "\n",
      "You can start your first spider with:\n",
      "    cd book_spider\n",
      "    scrapy genspider example example.com\n"
     ]
    }
   ],
   "source": [
    "!scrapy startproject book_spider"
   ]
  },
  {
   "cell_type": "code",
   "execution_count": null,
   "id": "brazilian-affair",
   "metadata": {},
   "outputs": [],
   "source": []
  }
 ],
 "metadata": {
  "kernelspec": {
   "display_name": "Python 3",
   "language": "python",
   "name": "python3"
  },
  "language_info": {
   "codemirror_mode": {
    "name": "ipython",
    "version": 3
   },
   "file_extension": ".py",
   "mimetype": "text/x-python",
   "name": "python",
   "nbconvert_exporter": "python",
   "pygments_lexer": "ipython3",
   "version": "3.9.1"
  }
 },
 "nbformat": 4,
 "nbformat_minor": 5
}
